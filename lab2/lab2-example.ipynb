{
 "cells": [
  {
   "cell_type": "markdown",
   "metadata": {},
   "source": [
    "# Algorithms 1: Do Something!\n",
    "\n",
    "Today's exercise is to make a piece of code that completes a useful task, but write it as generalized as possible to be reusable for other people (including Future You)!"
   ]
  },
  {
   "cell_type": "code",
   "execution_count": 1,
   "metadata": {
    "collapsed": true
   },
   "outputs": [],
   "source": [
    "%matplotlib inline\n",
    "import numpy as np\n",
    "import matplotlib.pyplot as plt"
   ]
  },
  {
   "cell_type": "markdown",
   "metadata": {},
   "source": [
    "## Documentation\n",
    "\n",
    "A \"Docstring\" is required for every function you write. Otherwise you will forget what it does and how it does it!\n",
    "\n",
    "One very common docstring format is the \"[NumPy/SciPy](https://github.com/numpy/numpy/blob/master/doc/HOWTO_DOCUMENT.rst.txt)\" standard:\n",
    "\n",
    "Below is a working function with a valid docstring as an example:"
   ]
  },
  {
   "cell_type": "code",
   "execution_count": 2,
   "metadata": {
    "collapsed": true
   },
   "outputs": [],
   "source": [
    "def MyFunc(arg1, arg2, kwarg1=5.0):\n",
    "    '''\n",
    "    This is a function to calculate the number of quatloos required\n",
    "    to reverse the polarity of a neutron flow.\n",
    "    \n",
    "    Parameters\n",
    "    ----------\n",
    "    arg1 : float\n",
    "        How many bleeps per blorp\n",
    "    arg2 : float\n",
    "        The foo/bar parameter\n",
    "    kwarg1 : float, optional\n",
    "        The quatloo to gold-pressed-latinum exchange rate\n",
    "    Returns\n",
    "    -------\n",
    "    float\n",
    "        A specific resultification index\n",
    "    '''\n",
    "    \n",
    "    if kwarg1 > 5.0:\n",
    "        print(\"wow, that's a lot of quatloos...\")\n",
    "\n",
    "    # this is the classical formula we learn in grade school\n",
    "    output = arg1 + arg2 * kwarg1\n",
    "        \n",
    "    return output"
   ]
  },
  {
   "cell_type": "code",
   "execution_count": 3,
   "metadata": {
    "collapsed": false
   },
   "outputs": [
    {
     "name": "stdout",
     "output_type": "stream",
     "text": [
      "wow, that's a lot of quatloos...\n"
     ]
    }
   ],
   "source": [
    "# how to use the function\n",
    "x = MyFunc(7,8, kwarg1=9.2)"
   ]
  },
  {
   "cell_type": "code",
   "execution_count": 4,
   "metadata": {
    "collapsed": false
   },
   "outputs": [
    {
     "name": "stdout",
     "output_type": "stream",
     "text": [
      "80.6\n"
     ]
    }
   ],
   "source": [
    "# Check out the function's result\n",
    "print(x)"
   ]
  },
  {
   "cell_type": "code",
   "execution_count": 5,
   "metadata": {
    "collapsed": true
   },
   "outputs": [],
   "source": [
    "#convert Kelvin to Fahrenheit\n",
    "# YOUR FUNCTION HERE\n"
   ]
  },
  {
   "cell_type": "markdown",
   "metadata": {},
   "source": [
    "Here's the goal:\n",
    "\n",
    "**Which constellation is a given point in?**\n",
    "\n",
    "This is the detailed constellation boundary lines data:\n",
    "http://vizier.cfa.harvard.edu/viz-bin/Cat?cat=VI%2F49\n",
    "\n",
    "You could use this data and do the full \"Ray Casting\" approach, or even cheat using matpltlib functions!\n",
    "http://stackoverflow.com/a/23453678\n",
    "\n",
    "\n",
    "A simplified approach from [Roman 1987](http://cdsads.u-strasbg.fr/abs/1987PASP...99..695R):\n",
    "http://vizier.cfa.harvard.edu/viz-bin/Cat?VI/42#sRM2.1"
   ]
  },
  {
   "cell_type": "code",
   "execution_count": 6,
   "metadata": {
    "collapsed": false,
    "scrolled": false
   },
   "outputs": [],
   "source": [
    "# This is a sloppy way to read in the floats for the coordinates, and then the strings for the constellation names.\n",
    "RAl, RAu, Decl = np.loadtxt('data/data.txt', delimiter=',', usecols=(0,1,2), unpack=True)\n",
    "names = np.loadtxt('data/data.txt', delimiter=',', usecols=(3,), unpack=True, dtype='str')"
   ]
  },
  {
   "cell_type": "code",
   "execution_count": null,
   "metadata": {
    "collapsed": true
   },
   "outputs": [],
   "source": []
  }
 ],
 "metadata": {
  "kernelspec": {
   "display_name": "Python 2",
   "language": "python",
   "name": "python2"
  },
  "language_info": {
   "codemirror_mode": {
    "name": "ipython",
    "version": 2
   },
   "file_extension": ".py",
   "mimetype": "text/x-python",
   "name": "python",
   "nbconvert_exporter": "python",
   "pygments_lexer": "ipython2",
   "version": "2.7.10"
  }
 },
 "nbformat": 4,
 "nbformat_minor": 0
}
