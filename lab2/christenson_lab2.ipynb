{
 "cells": [
  {
   "cell_type": "markdown",
   "metadata": {},
   "source": [
    "# Algorithms 1"
   ]
  },
  {
   "cell_type": "markdown",
   "metadata": {},
   "source": [
    "Holly Christenson\n",
    "\n",
    "4/19/2016"
   ]
  },
  {
   "cell_type": "code",
   "execution_count": 129,
   "metadata": {
    "collapsed": true
   },
   "outputs": [],
   "source": [
    "import numpy as np\n",
    "from matplotlib import pyplot as plt\n",
    "%matplotlib inline"
   ]
  },
  {
   "cell_type": "markdown",
   "metadata": {},
   "source": [
    "## I. Converting Kelvin to Fahrenheit (and vice versa)"
   ]
  },
  {
   "cell_type": "code",
   "execution_count": 130,
   "metadata": {
    "collapsed": false
   },
   "outputs": [],
   "source": [
    "def K2F_test(temp,reverse=True):\n",
    "    '''\n",
    "    This is a function to convert an input temperature from Celsius to Fahrenheit, or vice versa\n",
    "    \n",
    "    Parameters\n",
    "    -----------\n",
    "    temp: float\n",
    "        Input temperature in Kelvin\n",
    "    reverse: boolean\n",
    "        If False, the conversion will be from Kelvin to Fahrenheit\n",
    "        If True, the conversion will be from Fahrenheit to Kelvin\n",
    "          \n",
    "    Returns\n",
    "    ----------\n",
    "    output: float\n",
    "        Output temperature in Fahrenheit\n",
    "    '''\n",
    "    \n",
    "    if reverse == False:\n",
    "        output = (temp - 273)*(9/5) + 32\n",
    "        if temp < 0:\n",
    "            print(\"You have input a temperature below absolute zero!\")\n",
    "    if reverse == True:\n",
    "        output = (5/9)*(temp-32) + 273\n",
    "        if output < 0:\n",
    "            print(\"You have calculated a temperature below absolute zero!\")\n",
    "        \n",
    "    return output"
   ]
  },
  {
   "cell_type": "code",
   "execution_count": 131,
   "metadata": {
    "collapsed": false
   },
   "outputs": [
    {
     "name": "stdout",
     "output_type": "stream",
     "text": [
      "You have input a temperature below absolute zero!\n",
      "-2259.4\n"
     ]
    }
   ],
   "source": [
    "#how to use the function...\n",
    "x = K2F_test(-1000,False)\n",
    "print(x)"
   ]
  },
  {
   "cell_type": "code",
   "execution_count": 132,
   "metadata": {
    "collapsed": false
   },
   "outputs": [],
   "source": [
    "#import the function from file\n",
    "import christenson_func as func"
   ]
  },
  {
   "cell_type": "code",
   "execution_count": 133,
   "metadata": {
    "collapsed": false
   },
   "outputs": [
    {
     "name": "stdout",
     "output_type": "stream",
     "text": [
      "273.20000000000005\n"
     ]
    }
   ],
   "source": [
    "y = func.K2F(407,False)\n",
    "print(y)"
   ]
  },
  {
   "cell_type": "markdown",
   "metadata": {},
   "source": [
    "## II. Constellation Algorithm"
   ]
  },
  {
   "cell_type": "markdown",
   "metadata": {},
   "source": [
    "Here's the goal:\n",
    "\n",
    "**Which constellation is a given point in?**\n",
    "\n",
    "This is the detailed constellation boundary lines data:\n",
    "http://vizier.cfa.harvard.edu/viz-bin/Cat?cat=VI%2F49\n",
    "\n",
    "You could use this data and do the full \"Ray Casting\" approach, or even cheat using matpltlib functions!\n",
    "http://stackoverflow.com/a/23453678\n",
    "\n",
    "\n",
    "A simplified approach from [Roman 1987](http://cdsads.u-strasbg.fr/abs/1987PASP...99..695R):\n",
    "http://vizier.cfa.harvard.edu/viz-bin/Cat?VI/42#sRM2.1"
   ]
  },
  {
   "cell_type": "code",
   "execution_count": 174,
   "metadata": {
    "collapsed": false
   },
   "outputs": [],
   "source": [
    "# This is a sloppy way to read in the floats for the coordinates, and then the strings for the constellation names.\n",
    "RAl, RAu, Decl, = np.loadtxt('data/data.txt', delimiter=',', usecols=(0,1,2), unpack=True)\n",
    "names = np.loadtxt('data/data.txt', delimiter=',', usecols=(3,), unpack=True, dtype='str')"
   ]
  },
  {
   "cell_type": "code",
   "execution_count": 186,
   "metadata": {
    "collapsed": false
   },
   "outputs": [],
   "source": [
    "def constellation(ra,dec):\n",
    "    '''\n",
    "    This is a function to determine the constellation in which an object is located from its ra and dec\n",
    "    \n",
    "    Parameters\n",
    "    -------\n",
    "    ra: float\n",
    "        Right ascension\n",
    "    dec: float\n",
    "        Declination\n",
    "        \n",
    "    Returns\n",
    "    -------\n",
    "    output: string\n",
    "        Name of the constellation in which the object is located\n",
    "    '''\n",
    "    \n",
    "    count = 0\n",
    "\n",
    "    while(Decl[count] > dec):\n",
    "        count = count + 1\n",
    "    dec_low = Decl[count]\n",
    "    print(dec_low)\n",
    "    \n",
    "    while(RAu[count] <= ra):\n",
    "        count = count + 1\n",
    "    ra_up = RAu[count]\n",
    "\n",
    "    while(RAl[count] > ra or RAu[count] < ra):\n",
    "        count = count + 1 \n",
    "    ra_low = RAl[count]\n",
    "    print(ra_low)\n",
    "    \n",
    "    plt.figure()\n",
    "    plt.scatter(ra,dec,c='b',label='Star Location')\n",
    "    plt.scatter(ra_low,dec_low,c='k',label=\"Constellation Bounds\")\n",
    "    plt.scatter(ra_up,dec_low,c='k')\n",
    "    plt.legend(loc='best')\n",
    "    plt.xlabel(\"Right Ascension\",fontsize=14)\n",
    "    plt.ylabel(\"Declination\",fontsize=14)\n",
    "    plt.show()\n",
    "       \n",
    "    output = names[count]\n",
    "    \n",
    "    print(count)\n",
    "    \n",
    "    return output\n",
    "    "
   ]
  },
  {
   "cell_type": "code",
   "execution_count": 187,
   "metadata": {
    "collapsed": false
   },
   "outputs": [
    {
     "name": "stdout",
     "output_type": "stream",
     "text": [
      "36.75\n",
      "18.175\n"
     ]
    },
    {
     "data": {
      "image/png": "[encoded data removed]",
      "text/plain": [
       "<matplotlib.figure.Figure at 0x1075b33c8>"
      ]
     },
     "metadata": {},
     "output_type": "display_data"
    },
    {
     "name": "stdout",
     "output_type": "stream",
     "text": [
      "105\n"
     ]
    },
    {
     "data": {
      "text/plain": [
       "\"b'LYR'\""
      ]
     },
     "execution_count": 187,
     "metadata": {},
     "output_type": "execute_result"
    }
   ],
   "source": [
    "#How to use the function: what constellation does Vega lie in?\n",
    "constellation(18.62,38.78)"
   ]
  },
  {
   "cell_type": "code",
   "execution_count": 188,
   "metadata": {
    "collapsed": false
   },
   "outputs": [
    {
     "name": "stdout",
     "output_type": "stream",
     "text": [
      "-82.5\n",
      "13.6667\n"
     ]
    },
    {
     "data": {
      "image/png": "[encoded data removed]",
      "text/plain": [
       "<matplotlib.figure.Figure at 0x105ed5e10>"
      ]
     },
     "metadata": {},
     "output_type": "display_data"
    },
    {
     "name": "stdout",
     "output_type": "stream",
     "text": [
      "354\n"
     ]
    },
    {
     "data": {
      "text/plain": [
       "\"b'APS'\""
      ]
     },
     "execution_count": 188,
     "metadata": {},
     "output_type": "execute_result"
    }
   ],
   "source": [
    "#What constellation does HD129078 lie in?\n",
    "constellation(14.78,-79.03)"
   ]
  },
  {
   "cell_type": "code",
   "execution_count": null,
   "metadata": {
    "collapsed": true
   },
   "outputs": [],
   "source": []
  }
 ],
 "metadata": {
  "kernelspec": {
   "display_name": "Python 3",
   "language": "python",
   "name": "python3"
  },
  "language_info": {
   "codemirror_mode": {
    "name": "ipython",
    "version": 3
   },
   "file_extension": ".py",
   "mimetype": "text/x-python",
   "name": "python",
   "nbconvert_exporter": "python",
   "pygments_lexer": "ipython3",
   "version": "3.4.4"
  }
 },
 "nbformat": 4,
 "nbformat_minor": 0
}
