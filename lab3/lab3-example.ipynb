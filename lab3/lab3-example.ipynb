{
 "cells": [
  {
   "cell_type": "code",
   "execution_count": 3,
   "metadata": {
    "collapsed": true
   },
   "outputs": [],
   "source": [
    "%matplotlib inline\n",
    "import numpy as np\n",
    "import matplotlib.pyplot as plt\n",
    "import time\n",
    "# see also the \"datetime\" package\n",
    "import solutions"
   ]
  },
  {
   "cell_type": "markdown",
   "metadata": {},
   "source": [
    "# Part 2: Speed Racer!\n",
    "Let's figure out which of the solutions from last week is the fastest. \n",
    "\n",
    "To do this, we want to evaluate the runtime for a varying number of coordinates."
   ]
  },
  {
   "cell_type": "code",
   "execution_count": 8,
   "metadata": {
    "collapsed": false
   },
   "outputs": [
    {
     "data": {
      "text/plain": [
       "1461696379.988837"
      ]
     },
     "execution_count": 8,
     "metadata": {},
     "output_type": "execute_result"
    }
   ],
   "source": [
    "# This tells you the system time in seconds (from some system-dependent zero point)\n",
    "time.time()"
   ]
  },
  {
   "cell_type": "markdown",
   "metadata": {},
   "source": [
    "**NOTE:** this is *not* the best way to measure time, but it illustrates how the process works. \n",
    "\n",
    "Read about the [timeit](https://docs.python.org/2/library/timeit.html) module, and definitely the doccumentation of the [time](https://docs.python.org/3.5/library/time.html) module we're using."
   ]
  },
  {
   "cell_type": "code",
   "execution_count": 9,
   "metadata": {
    "collapsed": false
   },
   "outputs": [
    {
     "name": "stdout",
     "output_type": "stream",
     "text": [
      "This task took: 0.0146310329437 seconds\n"
     ]
    }
   ],
   "source": [
    "# here's a simple way to determine how long something takes to evaluate:\n",
    "t0 = time.time()\n",
    "\n",
    "# do some random task\n",
    "x = -1\n",
    "for k in range(0,100000):\n",
    "    x = k*x\n",
    "\n",
    "t1 = time.time()\n",
    "\n",
    "duration = t1 - t0\n",
    "print('This task took: ' + str(duration) + ' seconds')"
   ]
  },
  {
   "cell_type": "code",
   "execution_count": 18,
   "metadata": {
    "collapsed": false
   },
   "outputs": [],
   "source": [
    "# here's how you might return two numbers or arrays from a function\n",
    "\n",
    "def myfunc(a):\n",
    "    out1 = a+2\n",
    "    out2 = a-2\n",
    "    return out1, out2\n"
   ]
  },
  {
   "cell_type": "code",
   "execution_count": 19,
   "metadata": {
    "collapsed": false
   },
   "outputs": [
    {
     "name": "stdout",
     "output_type": "stream",
     "text": [
      "(9, 5)\n"
     ]
    }
   ],
   "source": [
    "x, y = myfunc(7)\n",
    "print(x,y)"
   ]
  },
  {
   "cell_type": "code",
   "execution_count": 21,
   "metadata": {
    "collapsed": false
   },
   "outputs": [
    {
     "data": {
      "text/plain": [
       "array([ 1.51564887,  2.5439616 ,  0.89781612, -1.54133132,  0.76406625,\n",
       "       -0.16048612,  0.05579842,  3.10017514,  1.58309618,  1.34794552,\n",
       "       -3.25130133,  0.13408712, -2.39601668,  2.0663616 , -0.96674343,\n",
       "        3.10338001, -2.66823238,  2.62833308, -4.54133576, -3.03881144])"
      ]
     },
     "execution_count": 21,
     "metadata": {},
     "output_type": "execute_result"
    }
   ],
   "source": [
    "# an example of random numbers uniformly chosen in the range -5 to 5\n",
    "\n",
    "# note, other random number distributions exist, and are very useful (e.g. Gaussian!)\n",
    "\n",
    "N = 20\n",
    "\n",
    "rmax = 5\n",
    "rmin = -5\n",
    "\n",
    "rando_calrissian = np.random.random(N) * (rmax - rmin) + rmin\n",
    "\n",
    "rando_calrissian"
   ]
  },
  {
   "cell_type": "markdown",
   "metadata": {},
   "source": [
    "# Part 3: Write some unit tests\n",
    "\n",
    "**unittest**: There *is* a [built-in framework](https://docs.python.org/2.7/library/unittest.html) for formally handling unit tests. It is a little difficult to start using, and we won't use it today. There are some nicer testing suites available (e.g. [nose](https://nose.readthedocs.org/en/latest/))\n",
    "\n",
    "**Exceptions**: Python defines a bunch of [built-in exceptions](https://docs.python.org/2/library/exceptions.html) that can come up when code crashes. In general you'll try to [catch these](https://wiki.python.org/moin/HandlingExceptions) and handle them gracefully. Usually I write Try/Except statements as I find these errors\n"
   ]
  },
  {
   "cell_type": "code",
   "execution_count": 14,
   "metadata": {
    "collapsed": false
   },
   "outputs": [],
   "source": [
    "def number_test(input):\n",
    "    '''\n",
    "    An example of using a Try/Except statement to catch an error.\n",
    "    You could imagine doing something more useful than just printing stuff to the screen...\n",
    "    '''\n",
    "    try:\n",
    "        val = float(input)\n",
    "        print('Yup...')\n",
    "    except ValueError:\n",
    "        print(\"Not a float!\")"
   ]
  },
  {
   "cell_type": "code",
   "execution_count": 15,
   "metadata": {
    "collapsed": false
   },
   "outputs": [
    {
     "name": "stdout",
     "output_type": "stream",
     "text": [
      "Yup...\n"
     ]
    }
   ],
   "source": [
    "a = 'hamburger'\n",
    "b = 123.45\n",
    "\n",
    "number_test(b)"
   ]
  },
  {
   "cell_type": "code",
   "execution_count": null,
   "metadata": {
    "collapsed": true
   },
   "outputs": [],
   "source": []
  }
 ],
 "metadata": {
  "kernelspec": {
   "display_name": "Python 2",
   "language": "python",
   "name": "python2"
  },
  "language_info": {
   "codemirror_mode": {
    "name": "ipython",
    "version": 2
   },
   "file_extension": ".py",
   "mimetype": "text/x-python",
   "name": "python",
   "nbconvert_exporter": "python",
   "pygments_lexer": "ipython2",
   "version": "2.7.10"
  }
 },
 "nbformat": 4,
 "nbformat_minor": 0
}
