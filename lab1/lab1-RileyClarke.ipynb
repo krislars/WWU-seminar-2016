{
 "cells": [
  {
   "cell_type": "markdown",
   "metadata": {},
   "source": [
    "# Lab 1\n",
    "\n",
    "## Markdown Cells\n",
    "\n",
    "This is a [Markdown](https://en.wikipedia.org/wiki/Markdown) cell. You can use them to write *nicely* formatted text, describing what you are doing in the Jupyter notebook."
   ]
  },
  {
   "cell_type": "code",
   "execution_count": 13,
   "metadata": {
    "collapsed": true
   },
   "outputs": [],
   "source": [
    "''' \n",
    "Let's import the Python modules we'll need for this example!\n",
    "This normally goes at the top of your script or notebook, so that all code below it can see these packages.\n",
    "\n",
    "By the way, the triple-quotes give you blocks of comments\n",
    "'''\n",
    "# while the pound (or hash) symbol just comments things\n",
    "\n",
    "%matplotlib inline\n",
    "import numpy as np\n",
    "import matplotlib.pyplot as plt"
   ]
  },
  {
   "cell_type": "code",
   "execution_count": 14,
   "metadata": {
    "collapsed": false
   },
   "outputs": [],
   "source": [
    "# Let's read some data in\n",
    "\n",
    "# file from: http://ds.iris.edu/ds/products/emc-prem/\n",
    "# based on Dziewonski & Anderson (1981) http://adsabs.harvard.edu/abs/1981PEPI...25..297D\n",
    "file = 'PREM_1s.csv'\n",
    "radius, density = np.loadtxt(file, delimiter=',', usecols=(0,2), comments='#', unpack=True)"
   ]
  },
  {
   "cell_type": "code",
   "execution_count": 100,
   "metadata": {
    "collapsed": true
   },
   "outputs": [],
   "source": [
    "radius = radius[::-1]"
   ]
  },
  {
   "cell_type": "code",
   "execution_count": 101,
   "metadata": {
    "collapsed": false
   },
   "outputs": [
    {
     "data": {
      "text/plain": [
       "array([    0. ,   100. ,   200. ,   300. ,   400. ,   500. ,   600. ,\n",
       "         700. ,   800. ,   900. ,  1000. ,  1100. ,  1200. ,  1217.1,\n",
       "        1221.5,  1221.5,  1300. ,  1400. ,  1500. ,  1600. ,  1700. ,\n",
       "        1800. ,  1900. ,  2000. ,  2100. ,  2200. ,  2221.5,  2300. ,\n",
       "        2400. ,  2500. ,  2600. ,  2700. ,  2800. ,  2900. ,  3000. ,\n",
       "        3100. ,  3200. ,  3300. ,  3400. ,  3480. ,  3480. ,  3485.7,\n",
       "        3535.7,  3585.7,  3630. ,  3630. ,  3635.7,  3685.7,  3735.7,\n",
       "        3785.7,  3835.7,  3885.7,  3935.7,  3985.7,  4035.7,  4085.7,\n",
       "        4135.7,  4185.7,  4235.7,  4285.7,  4335.7,  4385.7,  4435.7,\n",
       "        4485.7,  4535.7,  4585.7,  4635.7,  4685.7,  4735.7,  4785.7,\n",
       "        4835.7,  4885.7,  4935.7,  4985.7,  5035.7,  5085.7,  5135.7,\n",
       "        5185.7,  5235.7,  5285.7,  5335.7,  5385.7,  5435.7,  5485.7,\n",
       "        5535.7,  5585.7,  5600. ,  5600. ,  5635.7,  5685.7,  5701. ,\n",
       "        5701. ,  5711. ,  5721. ,  5731. ,  5741. ,  5751. ,  5761. ,\n",
       "        5771. ,  5771. ,  5781. ,  5791. ,  5801. ,  5811. ,  5821. ,\n",
       "        5831. ,  5841. ,  5851. ,  5861. ,  5871. ,  5881. ,  5891. ,\n",
       "        5901. ,  5911. ,  5921. ,  5931. ,  5941. ,  5951. ,  5961. ,\n",
       "        5971. ,  5971. ,  5981. ,  5991. ,  6001. ,  6011. ,  6021. ,\n",
       "        6031. ,  6041. ,  6051. ,  6061. ,  6071. ,  6081. ,  6091. ,\n",
       "        6101. ,  6111. ,  6121. ,  6131. ,  6141. ,  6151. ,  6151. ,\n",
       "        6161. ,  6171. ,  6181. ,  6191. ,  6201. ,  6211. ,  6221. ,\n",
       "        6231. ,  6241. ,  6251. ,  6261. ,  6271. ,  6281. ,  6291. ,\n",
       "        6291. ,  6301. ,  6311. ,  6321. ,  6326. ,  6331. ,  6336. ,\n",
       "        6337. ,  6338. ,  6339. ,  6340. ,  6341. ,  6342. ,  6343. ,\n",
       "        6344. ,  6345. ,  6346. ,  6346.6,  6346.6,  6348. ,  6349. ,\n",
       "        6350. ,  6351. ,  6352. ,  6353. ,  6354. ,  6355. ,  6356. ,\n",
       "        6356. ,  6357. ,  6358. ,  6359. ,  6360. ,  6361. ,  6362. ,\n",
       "        6363. ,  6364. ,  6365. ,  6366. ,  6367. ,  6368. ,  6368. ,\n",
       "        6369. ,  6370. ,  6371. ])"
      ]
     },
     "execution_count": 101,
     "metadata": {},
     "output_type": "execute_result"
    }
   ],
   "source": [
    "radius"
   ]
  },
  {
   "cell_type": "code",
   "execution_count": 102,
   "metadata": {
    "collapsed": false
   },
   "outputs": [],
   "source": [
    "density = density[::-1]"
   ]
  },
  {
   "cell_type": "code",
   "execution_count": 103,
   "metadata": {
    "collapsed": false
   },
   "outputs": [
    {
     "data": {
      "text/plain": [
       "<matplotlib.text.Text at 0x10ac56390>"
      ]
     },
     "execution_count": 103,
     "metadata": {},
     "output_type": "execute_result"
    },
    {
     "data": {
      "image/png": "[encoded data removed]",
      "text/plain": [
       "<matplotlib.figure.Figure at 0x10a571240>"
      ]
     },
     "metadata": {},
     "output_type": "display_data"
    }
   ],
   "source": [
    "# Now let's plot these data\n",
    "plt.plot(radius, density)\n",
    "plt.xlabel('Radius (km)')\n",
    "plt.ylabel('Density (g/cm$^3$)')"
   ]
  },
  {
   "cell_type": "markdown",
   "metadata": {},
   "source": [
    "## Goal:\n",
    "At what radial step do you enclose half of the Earth's mass?\n",
    "\n",
    "We all know the formula for the mass of a sphere:\n",
    "$ M = \\frac{4}{3} \\pi R^3 \\times \\rho $\n",
    "\n",
    "Note that the density here is provided in *shells* of radius, so you need to add them as you go.\n",
    "\n",
    "$ M_i = \\frac{4}{3} \\pi (R_{i+1}^3 - R_i^3) \\times \\rho_i $\n"
   ]
  },
  {
   "cell_type": "code",
   "execution_count": 104,
   "metadata": {
    "collapsed": false
   },
   "outputs": [],
   "source": [
    "# some beginning thoughts...\n",
    "\n",
    "# create an array of 100 zeros\n",
    "x = np.zeros(100)\n",
    "\n",
    "# loop over these, and save something in each one\n",
    "for i in range(1, 100):\n",
    "    x[i] = i*2 + 5 + x[i-1]"
   ]
  },
  {
   "cell_type": "code",
   "execution_count": 105,
   "metadata": {
    "collapsed": false
   },
   "outputs": [
    {
     "data": {
      "text/plain": [
       "[<matplotlib.lines.Line2D at 0x10ab8a630>]"
      ]
     },
     "execution_count": 105,
     "metadata": {},
     "output_type": "execute_result"
    },
    {
     "data": {
      "image/png": "[encoded data removed]",
      "text/plain": [
       "<matplotlib.figure.Figure at 0x10aea00f0>"
      ]
     },
     "metadata": {},
     "output_type": "display_data"
    }
   ],
   "source": [
    "plt.plot(x)"
   ]
  },
  {
   "cell_type": "code",
   "execution_count": 106,
   "metadata": {
    "collapsed": false
   },
   "outputs": [
    {
     "data": {
      "text/plain": [
       "<matplotlib.collections.PathCollection at 0x10aca7128>"
      ]
     },
     "execution_count": 106,
     "metadata": {},
     "output_type": "execute_result"
    },
    {
     "name": "stderr",
     "output_type": "stream",
     "text": [
      "/Users/Riley/anaconda/lib/python3.5/site-packages/matplotlib/collections.py:590: FutureWarning: elementwise comparison failed; returning scalar instead, but in the future will perform elementwise comparison\n",
      "  if self._edgecolors == str('face'):\n"
     ]
    },
    {
     "data": {
      "image/png": "[encoded data removed]",
      "text/plain": [
       "<matplotlib.figure.Figure at 0x10aca76d8>"
      ]
     },
     "metadata": {},
     "output_type": "display_data"
    }
   ],
   "source": [
    "z = np.where((x > 8000))\n",
    "num = np.arange(0,100)\n",
    "\n",
    "plt.plot(num, x)\n",
    "plt.scatter(num[z], x[z], c='red', lw=0)"
   ]
  },
  {
   "cell_type": "code",
   "execution_count": 110,
   "metadata": {
    "collapsed": false
   },
   "outputs": [],
   "source": [
    "rho = np.zeros(np.size(density))\n",
    "\n",
    "for i in range (0,np.size(density)):\n",
    "    rho[i] = density[i]*(1e12)"
   ]
  },
  {
   "cell_type": "code",
   "execution_count": 112,
   "metadata": {
    "collapsed": false
   },
   "outputs": [
    {
     "data": {
      "text/plain": [
       "<matplotlib.text.Text at 0x10a1c7400>"
      ]
     },
     "execution_count": 112,
     "metadata": {},
     "output_type": "execute_result"
    },
    {
     "data": {
      "image/png": "[encoded data removed]",
      "text/plain": [
       "<matplotlib.figure.Figure at 0x10a30aa20>"
      ]
     },
     "metadata": {},
     "output_type": "display_data"
    }
   ],
   "source": [
    "m = np.zeros(np.size(radius))\n",
    "\n",
    "for i in range (1,np.size(radius)):\n",
    "    m[i] = ((4/3)*np.pi*(radius[i]**3-radius[i-1]**3)*rho[i])+m[i-1]\n",
    "    \n",
    "plt.plot(radius,m)\n",
    "plt.xlabel('Radius (km)')\n",
    "plt.ylabel('Mass (kg)')\n"
   ]
  },
  {
   "cell_type": "code",
   "execution_count": 127,
   "metadata": {
    "collapsed": false
   },
   "outputs": [
    {
     "data": {
      "text/plain": [
       "<matplotlib.collections.PathCollection at 0x10c00a710>"
      ]
     },
     "execution_count": 127,
     "metadata": {},
     "output_type": "execute_result"
    },
    {
     "name": "stderr",
     "output_type": "stream",
     "text": [
      "/Users/Riley/anaconda/lib/python3.5/site-packages/matplotlib/collections.py:590: FutureWarning: elementwise comparison failed; returning scalar instead, but in the future will perform elementwise comparison\n",
      "  if self._edgecolors == str('face'):\n"
     ]
    },
    {
     "data": {
      "image/png": "[encoded data removed]",
      "text/plain": [
       "<matplotlib.figure.Figure at 0x10c00aa20>"
      ]
     },
     "metadata": {},
     "output_type": "display_data"
    }
   ],
   "source": [
    "s = np.where(m > 2.986e24)\n",
    "n = np.arange(0,np.size(radius))\n",
    "\n",
    "plt.plot(radius,m)\n",
    "plt.scatter(radius[s],m[s], c='orange', lw=0)"
   ]
  },
  {
   "cell_type": "code",
   "execution_count": null,
   "metadata": {
    "collapsed": true
   },
   "outputs": [],
   "source": []
  }
 ],
 "metadata": {
  "kernelspec": {
   "display_name": "Python 3",
   "language": "python",
   "name": "python3"
  },
  "language_info": {
   "codemirror_mode": {
    "name": "ipython",
    "version": 3
   },
   "file_extension": ".py",
   "mimetype": "text/x-python",
   "name": "python",
   "nbconvert_exporter": "python",
   "pygments_lexer": "ipython3",
   "version": "3.5.1"
  }
 },
 "nbformat": 4,
 "nbformat_minor": 0
}
