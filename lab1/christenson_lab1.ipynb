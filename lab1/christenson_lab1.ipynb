{
 "cells": [
  {
   "cell_type": "markdown",
   "metadata": {},
   "source": [
    "## Lab 1"
   ]
  },
  {
   "cell_type": "markdown",
   "metadata": {},
   "source": [
    "Holly Christenson\n",
    "\n",
    "4/12/16"
   ]
  },
  {
   "cell_type": "code",
   "execution_count": 26,
   "metadata": {
    "collapsed": true
   },
   "outputs": [],
   "source": [
    "import numpy as np\n",
    "from matplotlib import pyplot as plt\n",
    "%matplotlib inline"
   ]
  },
  {
   "cell_type": "markdown",
   "metadata": {},
   "source": [
    "The goal of this lab is to compute the radius that encloses half of the Earth's mass. We'll start by loading in some data."
   ]
  },
  {
   "cell_type": "code",
   "execution_count": 33,
   "metadata": {
    "collapsed": false
   },
   "outputs": [],
   "source": [
    "file = 'PREM_1s.csv'\n",
    "radius, density = np.loadtxt(file, delimiter=',', usecols=(0,2), comments='#', unpack=True)"
   ]
  },
  {
   "cell_type": "markdown",
   "metadata": {},
   "source": [
    "The first important step is to make sure the units of our radius and density are compatible! Here, density is given in g/cm$^3$ and radius is in km. We'll change density to kg/m$^3$ and radius to meters."
   ]
  },
  {
   "cell_type": "code",
   "execution_count": 34,
   "metadata": {
    "collapsed": true
   },
   "outputs": [],
   "source": [
    "radius = radius*1000\n",
    "density = density*1000"
   ]
  },
  {
   "cell_type": "code",
   "execution_count": 78,
   "metadata": {
    "collapsed": false
   },
   "outputs": [
    {
     "data": {
      "image/png": "[encoded data removed]",
      "text/plain": [
       "<matplotlib.figure.Figure at 0x10754b5c0>"
      ]
     },
     "metadata": {},
     "output_type": "display_data"
    }
   ],
   "source": [
    "plt.figure()\n",
    "plt.plot(radius,density)\n",
    "plt.xlabel(\"Radius (m)\",fontsize='18')\n",
    "plt.ylabel(\"Density (kg/m$^3$)\",fontsize='18')\n",
    "plt.show()"
   ]
  },
  {
   "cell_type": "markdown",
   "metadata": {},
   "source": [
    "The mass of a sphere is given by\n",
    "\n",
    "$M = \\frac{4}{3}\\pi R^3 \\times \\rho$\n",
    "\n",
    "and the mass of the Earth is\n",
    "\n",
    "$M_{earth} = 5.972 \\times 10^{24}$ kg"
   ]
  },
  {
   "cell_type": "markdown",
   "metadata": {},
   "source": [
    "Density here is given in shells of radius, so the first step to making this calculation is to calculate an array of mass values for each radius $i$:\n",
    "\n",
    "$ M_i = \\frac{4}{3} \\pi (R_{i+1}^3 - R_i^3) \\times \\rho_i $"
   ]
  },
  {
   "cell_type": "code",
   "execution_count": 51,
   "metadata": {
    "collapsed": false
   },
   "outputs": [
    {
     "name": "stdout",
     "output_type": "stream",
     "text": [
      "5.99164122092e+24\n"
     ]
    }
   ],
   "source": [
    "m = np.zeros([radius.size])\n",
    "\n",
    "for i in range(1,radius.size):\n",
    "    m[i] = (4/3)*np.pi*(radius[i-1]**3 - radius[i]**3)*density[i]\n",
    "\n",
    "m_earth= np.sum(m)\n",
    "print(m_earth)"
   ]
  },
  {
   "cell_type": "markdown",
   "metadata": {},
   "source": [
    "Cool, that's approximately the actual mass of the Earth. We now need to figure out the radius at which $\\textit{half}$ of this mass is enclosed."
   ]
  },
  {
   "cell_type": "code",
   "execution_count": 77,
   "metadata": {
    "collapsed": false
   },
   "outputs": [
    {
     "data": {
      "text/plain": [
       "4385700.0"
      ]
     },
     "execution_count": 77,
     "metadata": {},
     "output_type": "execute_result"
    }
   ],
   "source": [
    "m_half = (1/2)*m_earth\n",
    "\n",
    "m_enc = 0\n",
    "count=0\n",
    "\n",
    "while(m_enc < m_half or m_enc == m_half):\n",
    "    m_enc = m_enc + m[count]\n",
    "    count = count+1\n",
    "\n",
    "radius[count]"
   ]
  },
  {
   "cell_type": "markdown",
   "metadata": {},
   "source": [
    "According to my calculations, the radius for which half of the Earth's mass is enclosed is 4386 km."
   ]
  },
  {
   "cell_type": "code",
   "execution_count": null,
   "metadata": {
    "collapsed": true
   },
   "outputs": [],
   "source": []
  }
 ],
 "metadata": {
  "kernelspec": {
   "display_name": "Python 3",
   "language": "python",
   "name": "python3"
  },
  "language_info": {
   "codemirror_mode": {
    "name": "ipython",
    "version": 3
   },
   "file_extension": ".py",
   "mimetype": "text/x-python",
   "name": "python",
   "nbconvert_exporter": "python",
   "pygments_lexer": "ipython3",
   "version": "3.4.4"
  }
 },
 "nbformat": 4,
 "nbformat_minor": 0
}
