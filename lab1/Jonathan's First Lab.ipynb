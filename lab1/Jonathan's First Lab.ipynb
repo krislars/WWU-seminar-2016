{
 "cells": [
  {
   "cell_type": "code",
   "execution_count": null,
   "metadata": {
    "collapsed": true
   },
   "outputs": [],
   "source": []
  },
  {
   "cell_type": "markdown",
   "metadata": {},
   "source": [
    "# Lab 1\n",
    "\n",
    "## Jonathan Cornet\n",
    "\n",
    "I am going to find out at what radial step one encloses half the Earth's mass."
   ]
  },
  {
   "cell_type": "code",
   "execution_count": 42,
   "metadata": {
    "collapsed": false
   },
   "outputs": [],
   "source": [
    "%matplotlib inline\n",
    "import numpy as np\n",
    "import matplotlib.pyplot as plt"
   ]
  },
  {
   "cell_type": "code",
   "execution_count": 43,
   "metadata": {
    "collapsed": false
   },
   "outputs": [],
   "source": [
    "# file from: http://ds.iris.edu/ds/products/emc-prem/\n",
    "# based on Dziewonski & Anderson (1981) http://adsabs.harvard.edu/abs/1981PEPI...25..297D\n",
    "file = 'PREM_1s.csv'\n",
    "radius, density = np.loadtxt(file, delimiter=',', usecols=(0,2), comments='#', unpack=True)"
   ]
  },
  {
   "cell_type": "code",
   "execution_count": 83,
   "metadata": {
    "collapsed": false
   },
   "outputs": [
    {
     "data": {
      "text/plain": [
       "<matplotlib.text.Text at 0xd1aa10>"
      ]
     },
     "execution_count": 83,
     "metadata": {},
     "output_type": "execute_result"
    },
    {
     "data": {
      "image/png": "[encoded data removed]",
      "text/plain": [
       "<matplotlib.figure.Figure at 0xdb24b0>"
      ]
     },
     "metadata": {},
     "output_type": "display_data"
    }
   ],
   "source": [
    "# Now let's plot these data\n",
    "plt.plot(radius, density)\n",
    "plt.xlabel('Radius (km)')\n",
    "plt.ylabel('Density (g/cm$^3$)')"
   ]
  },
  {
   "cell_type": "markdown",
   "metadata": {},
   "source": [
    "## Goal:\n",
    "At what radial step do you enclose half of the Earth's mass?\n",
    "\n",
    "Mass of a sphere:\n",
    "$ M = \\frac{4}{3} \\pi R^3 \\times \\rho $\n",
    "\n",
    "Note that the density here is provided in *shells* of radius, so you need to add them as you go.\n",
    "\n",
    "$ M_i = \\frac{4}{3} \\pi (R_{i+1}^3 - R_i^3) \\times \\rho_i $\n"
   ]
  },
  {
   "cell_type": "code",
   "execution_count": 84,
   "metadata": {
    "collapsed": false,
    "scrolled": true
   },
   "outputs": [
    {
     "name": "stdout",
     "output_type": "stream",
     "text": [
      "5.99164122092e+24\n"
     ]
    },
    {
     "data": {
      "text/plain": [
       "[<matplotlib.lines.Line2D at 0x50576f0>]"
      ]
     },
     "execution_count": 84,
     "metadata": {},
     "output_type": "execute_result"
    },
    {
     "data": {
      "image/png": "[encoded data removed]",
      "text/plain": [
       "<matplotlib.figure.Figure at 0xd1a190>"
      ]
     },
     "metadata": {},
     "output_type": "display_data"
    }
   ],
   "source": [
    "# create an array of needed zeros\n",
    "x = np.zeros(len(radius))\n",
    "\n",
    "truedensity = (density)*1000\n",
    "trueradius = (radius)*1000\n",
    "\n",
    "# looping over these, we save new ...\n",
    "for i in range(1,len(radius)):\n",
    "    x[i] = ((4/3)*np.pi*((trueradius[i-1]**3)-(trueradius[i])**3)*(truedensity[i])) + x[i-1]\n",
    "    \n",
    "totalmass=x[len(radius)-1]\n",
    "print(totalmass)\n",
    "\n",
    "plt.plot(x)"
   ]
  },
  {
   "cell_type": "code",
   "execution_count": 94,
   "metadata": {
    "collapsed": false
   },
   "outputs": [
    {
     "name": "stdout",
     "output_type": "stream",
     "text": [
      "[ 4485.7]\n",
      "[ 1885.3]\n"
     ]
    },
    {
     "data": {
      "text/plain": [
       "array([ 0.29591901])"
      ]
     },
     "execution_count": 94,
     "metadata": {},
     "output_type": "execute_result"
    }
   ],
   "source": [
    "halfmass=totalmass*.5\n",
    "R=np.where(np.abs(x-halfmass)==np.min(np.abs(x-halfmass)))\n",
    "print(radius[R])\n",
    "answer = radius[R]\n",
    "wantedradius = radius[0] - answer\n",
    "print(wantedradius)\n",
    "wantedradius/radius[0]"
   ]
  },
  {
   "cell_type": "markdown",
   "metadata": {
    "collapsed": true
   },
   "source": [
    "I have found that using the given data, a radius of 1,885.3 km will enclose half the Earth's mass. This is about one third of the way out from the center of the core!"
   ]
  },
  {
   "cell_type": "code",
   "execution_count": null,
   "metadata": {
    "collapsed": true
   },
   "outputs": [],
   "source": []
  },
  {
   "cell_type": "code",
   "execution_count": null,
   "metadata": {
    "collapsed": true
   },
   "outputs": [],
   "source": []
  }
 ],
 "metadata": {
  "kernelspec": {
   "display_name": "Python 3",
   "language": "python",
   "name": "python3"
  },
  "language_info": {
   "codemirror_mode": {
    "name": "ipython",
    "version": 3
   },
   "file_extension": ".py",
   "mimetype": "text/x-python",
   "name": "python",
   "nbconvert_exporter": "python",
   "pygments_lexer": "ipython3",
   "version": "3.5.1"
  }
 },
 "nbformat": 4,
 "nbformat_minor": 0
}
